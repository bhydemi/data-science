{
 "cells": [
  {
   "cell_type": "markdown",
   "id": "greenhouse-nebraska",
   "metadata": {},
   "source": [
    "# Importing Libraries "
   ]
  },
  {
   "cell_type": "code",
   "execution_count": 1626,
   "id": "polish-mexican",
   "metadata": {},
   "outputs": [],
   "source": [
    "import pandas as pd\n",
    "import math\n",
    "import numpy as np \n",
    "import seaborn as sns\n",
    "sns.set()\n",
    "\n",
    "import matplotlib.pyplot as plt\n",
    "from sklearn.preprocessing import LabelEncoder \n",
    "from sklearn.model_selection import train_test_split\n",
    "from sklearn.preprocessing import StandardScaler\n",
    "from sklearn.linear_model import LinearRegression\n",
    "from sklearn.linear_model import LinearRegression\n",
    "from sklearn.preprocessing import PolynomialFeatures\n",
    "from sklearn.svm import SVR\n",
    "from sklearn.preprocessing import LabelEncoder\n",
    "\n",
    "from sklearn.ensemble import RandomForestRegressor\n",
    "from sklearn.datasets import make_regression\n",
    "from sklearn.linear_model import HuberRegressor\n",
    "from sklearn.linear_model import RANSACRegressor\n",
    "from sklearn.linear_model import TheilSenRegressor\n",
    "\n",
    "\n",
    "plt.rcParams['figure.figsize']=14,12"
   ]
  },
  {
   "cell_type": "markdown",
   "id": "rental-pharmacy",
   "metadata": {},
   "source": [
    "# Importing Dataset"
   ]
  },
  {
   "cell_type": "code",
   "execution_count": 1627,
   "id": "analyzed-davis",
   "metadata": {},
   "outputs": [
    {
     "data": {
      "text/html": [
       "<div>\n",
       "<style scoped>\n",
       "    .dataframe tbody tr th:only-of-type {\n",
       "        vertical-align: middle;\n",
       "    }\n",
       "\n",
       "    .dataframe tbody tr th {\n",
       "        vertical-align: top;\n",
       "    }\n",
       "\n",
       "    .dataframe thead th {\n",
       "        text-align: right;\n",
       "    }\n",
       "</style>\n",
       "<table border=\"1\" class=\"dataframe\">\n",
       "  <thead>\n",
       "    <tr style=\"text-align: right;\">\n",
       "      <th></th>\n",
       "      <th>Item_Weight</th>\n",
       "      <th>Item_Visibility</th>\n",
       "      <th>Item_MRP</th>\n",
       "      <th>Outlet_Establishment_Year</th>\n",
       "      <th>Item_Outlet_Sales</th>\n",
       "    </tr>\n",
       "  </thead>\n",
       "  <tbody>\n",
       "    <tr>\n",
       "      <th>count</th>\n",
       "      <td>7060.000000</td>\n",
       "      <td>8523.000000</td>\n",
       "      <td>8523.000000</td>\n",
       "      <td>8523.000000</td>\n",
       "      <td>8523.000000</td>\n",
       "    </tr>\n",
       "    <tr>\n",
       "      <th>mean</th>\n",
       "      <td>12.857645</td>\n",
       "      <td>0.066132</td>\n",
       "      <td>140.992782</td>\n",
       "      <td>1997.831867</td>\n",
       "      <td>2181.288914</td>\n",
       "    </tr>\n",
       "    <tr>\n",
       "      <th>std</th>\n",
       "      <td>4.643456</td>\n",
       "      <td>0.051598</td>\n",
       "      <td>62.275067</td>\n",
       "      <td>8.371760</td>\n",
       "      <td>1706.499616</td>\n",
       "    </tr>\n",
       "    <tr>\n",
       "      <th>min</th>\n",
       "      <td>4.555000</td>\n",
       "      <td>0.000000</td>\n",
       "      <td>31.290000</td>\n",
       "      <td>1985.000000</td>\n",
       "      <td>33.290000</td>\n",
       "    </tr>\n",
       "    <tr>\n",
       "      <th>25%</th>\n",
       "      <td>8.773750</td>\n",
       "      <td>0.026989</td>\n",
       "      <td>93.826500</td>\n",
       "      <td>1987.000000</td>\n",
       "      <td>834.247400</td>\n",
       "    </tr>\n",
       "    <tr>\n",
       "      <th>50%</th>\n",
       "      <td>12.600000</td>\n",
       "      <td>0.053931</td>\n",
       "      <td>143.012800</td>\n",
       "      <td>1999.000000</td>\n",
       "      <td>1794.331000</td>\n",
       "    </tr>\n",
       "    <tr>\n",
       "      <th>75%</th>\n",
       "      <td>16.850000</td>\n",
       "      <td>0.094585</td>\n",
       "      <td>185.643700</td>\n",
       "      <td>2004.000000</td>\n",
       "      <td>3101.296400</td>\n",
       "    </tr>\n",
       "    <tr>\n",
       "      <th>max</th>\n",
       "      <td>21.350000</td>\n",
       "      <td>0.328391</td>\n",
       "      <td>266.888400</td>\n",
       "      <td>2009.000000</td>\n",
       "      <td>13086.964800</td>\n",
       "    </tr>\n",
       "  </tbody>\n",
       "</table>\n",
       "</div>"
      ],
      "text/plain": [
       "       Item_Weight  Item_Visibility     Item_MRP  Outlet_Establishment_Year  \\\n",
       "count  7060.000000      8523.000000  8523.000000                8523.000000   \n",
       "mean     12.857645         0.066132   140.992782                1997.831867   \n",
       "std       4.643456         0.051598    62.275067                   8.371760   \n",
       "min       4.555000         0.000000    31.290000                1985.000000   \n",
       "25%       8.773750         0.026989    93.826500                1987.000000   \n",
       "50%      12.600000         0.053931   143.012800                1999.000000   \n",
       "75%      16.850000         0.094585   185.643700                2004.000000   \n",
       "max      21.350000         0.328391   266.888400                2009.000000   \n",
       "\n",
       "       Item_Outlet_Sales  \n",
       "count        8523.000000  \n",
       "mean         2181.288914  \n",
       "std          1706.499616  \n",
       "min            33.290000  \n",
       "25%           834.247400  \n",
       "50%          1794.331000  \n",
       "75%          3101.296400  \n",
       "max         13086.964800  "
      ]
     },
     "execution_count": 1627,
     "metadata": {},
     "output_type": "execute_result"
    }
   ],
   "source": [
    "training_dataset  = pd.read_csv('train_v9rqX0R.csv')\n",
    "training_dataset.describe()\n"
   ]
  },
  {
   "cell_type": "markdown",
   "id": "unexpected-farming",
   "metadata": {},
   "source": [
    "  A summary view of the non-categories fields of the dataset shows that the distribution of the item outlet sales might have outliers, right skewed "
   ]
  },
  {
   "cell_type": "code",
   "execution_count": 1628,
   "id": "coupled-brush",
   "metadata": {},
   "outputs": [
    {
     "data": {
      "text/plain": [
       "Item_Identifier               object\n",
       "Item_Weight                  float64\n",
       "Item_Fat_Content              object\n",
       "Item_Visibility              float64\n",
       "Item_Type                     object\n",
       "Item_MRP                     float64\n",
       "Outlet_Identifier             object\n",
       "Outlet_Establishment_Year      int64\n",
       "Outlet_Size                   object\n",
       "Outlet_Location_Type          object\n",
       "Outlet_Type                   object\n",
       "Item_Outlet_Sales            float64\n",
       "dtype: object"
      ]
     },
     "execution_count": 1628,
     "metadata": {},
     "output_type": "execute_result"
    }
   ],
   "source": [
    "training_dataset.dtypes"
   ]
  },
  {
   "cell_type": "code",
   "execution_count": 1629,
   "id": "original-belfast",
   "metadata": {},
   "outputs": [
    {
     "data": {
      "text/plain": [
       "Item_Identifier                 0\n",
       "Item_Weight                  1463\n",
       "Item_Fat_Content                0\n",
       "Item_Visibility                 0\n",
       "Item_Type                       0\n",
       "Item_MRP                        0\n",
       "Outlet_Identifier               0\n",
       "Outlet_Establishment_Year       0\n",
       "Outlet_Size                  2410\n",
       "Outlet_Location_Type            0\n",
       "Outlet_Type                     0\n",
       "Item_Outlet_Sales               0\n",
       "dtype: int64"
      ]
     },
     "execution_count": 1629,
     "metadata": {},
     "output_type": "execute_result"
    }
   ],
   "source": [
    "training_dataset.isnull().sum()"
   ]
  },
  {
   "cell_type": "markdown",
   "id": "efficient-strategy",
   "metadata": {},
   "source": [
    "  A quick check into the different fields to check missing values shows that **Item_weight** (Continous) and **Outlet_Size** (Categorical) have some missing values"
   ]
  },
  {
   "cell_type": "markdown",
   "id": "powered-walker",
   "metadata": {},
   "source": [
    "## DEALING WITH MISSING VALUES"
   ]
  },
  {
   "cell_type": "markdown",
   "id": "official-custody",
   "metadata": {},
   "source": [
    "#### Weight "
   ]
  },
  {
   "cell_type": "code",
   "execution_count": 1630,
   "id": "fuzzy-nomination",
   "metadata": {},
   "outputs": [
    {
     "data": {
      "text/plain": [
       "Item_Weight                  0.014123\n",
       "Item_Visibility             -0.128625\n",
       "Item_MRP                     0.567574\n",
       "Outlet_Establishment_Year   -0.049135\n",
       "Item_Outlet_Sales            1.000000\n",
       "Name: Item_Outlet_Sales, dtype: float64"
      ]
     },
     "execution_count": 1630,
     "metadata": {},
     "output_type": "execute_result"
    }
   ],
   "source": [
    "training_dataset.corr().Item_Outlet_Sales"
   ]
  },
  {
   "cell_type": "code",
   "execution_count": 1631,
   "id": "joined-software",
   "metadata": {},
   "outputs": [
    {
     "data": {
      "text/plain": [
       "Item_Weight                  0.014123\n",
       "Item_Visibility             -0.085334\n",
       "Item_MRP                     0.620961\n",
       "Outlet_Establishment_Year    0.012212\n",
       "Item_Outlet_Sales            1.000000\n",
       "Name: Item_Outlet_Sales, dtype: float64"
      ]
     },
     "execution_count": 1631,
     "metadata": {},
     "output_type": "execute_result"
    }
   ],
   "source": [
    "training_dataset[~training_dataset.Item_Weight.isnull()].corr().Item_Outlet_Sales"
   ]
  },
  {
   "cell_type": "markdown",
   "id": "cardiovascular-tokyo",
   "metadata": {},
   "source": [
    "To figure out how to manage missing weight fields, I decide to check how significant this field is for the prediction of sales. I did this by checking the correlation of all continous variables by to the **Sales**. From this check i discovered that the weight field is not a significant one and as such might not be neccessary to update."
   ]
  },
  {
   "cell_type": "code",
   "execution_count": 1632,
   "id": "widespread-morrison",
   "metadata": {},
   "outputs": [
    {
     "data": {
      "text/html": [
       "<div>\n",
       "<style scoped>\n",
       "    .dataframe tbody tr th:only-of-type {\n",
       "        vertical-align: middle;\n",
       "    }\n",
       "\n",
       "    .dataframe tbody tr th {\n",
       "        vertical-align: top;\n",
       "    }\n",
       "\n",
       "    .dataframe thead th {\n",
       "        text-align: right;\n",
       "    }\n",
       "</style>\n",
       "<table border=\"1\" class=\"dataframe\">\n",
       "  <thead>\n",
       "    <tr style=\"text-align: right;\">\n",
       "      <th></th>\n",
       "      <th>Outlet_Size</th>\n",
       "    </tr>\n",
       "    <tr>\n",
       "      <th>Outlet_Size</th>\n",
       "      <th></th>\n",
       "    </tr>\n",
       "  </thead>\n",
       "  <tbody>\n",
       "    <tr>\n",
       "      <th>High</th>\n",
       "      <td>932</td>\n",
       "    </tr>\n",
       "    <tr>\n",
       "      <th>Medium</th>\n",
       "      <td>2793</td>\n",
       "    </tr>\n",
       "    <tr>\n",
       "      <th>Small</th>\n",
       "      <td>2388</td>\n",
       "    </tr>\n",
       "  </tbody>\n",
       "</table>\n",
       "</div>"
      ],
      "text/plain": [
       "             Outlet_Size\n",
       "Outlet_Size             \n",
       "High                 932\n",
       "Medium              2793\n",
       "Small               2388"
      ]
     },
     "execution_count": 1632,
     "metadata": {},
     "output_type": "execute_result"
    }
   ],
   "source": [
    "training_dataset.groupby(['Outlet_Size']).agg({'Outlet_Size':'count'})"
   ]
  },
  {
   "cell_type": "code",
   "execution_count": 1633,
   "id": "naked-psychiatry",
   "metadata": {},
   "outputs": [
    {
     "data": {
      "text/html": [
       "<div>\n",
       "<style scoped>\n",
       "    .dataframe tbody tr th:only-of-type {\n",
       "        vertical-align: middle;\n",
       "    }\n",
       "\n",
       "    .dataframe tbody tr th {\n",
       "        vertical-align: top;\n",
       "    }\n",
       "\n",
       "    .dataframe thead th {\n",
       "        text-align: right;\n",
       "    }\n",
       "</style>\n",
       "<table border=\"1\" class=\"dataframe\">\n",
       "  <thead>\n",
       "    <tr style=\"text-align: right;\">\n",
       "      <th></th>\n",
       "      <th></th>\n",
       "      <th></th>\n",
       "      <th></th>\n",
       "      <th>Outlet_Size</th>\n",
       "    </tr>\n",
       "    <tr>\n",
       "      <th>Outlet_Location_Type</th>\n",
       "      <th>Outlet_Size</th>\n",
       "      <th>Outlet_Type</th>\n",
       "      <th>Outlet_Identifier</th>\n",
       "      <th></th>\n",
       "    </tr>\n",
       "  </thead>\n",
       "  <tbody>\n",
       "    <tr>\n",
       "      <th rowspan=\"3\" valign=\"top\">Tier 1</th>\n",
       "      <th>Medium</th>\n",
       "      <th>Supermarket Type1</th>\n",
       "      <th>OUT049</th>\n",
       "      <td>930</td>\n",
       "    </tr>\n",
       "    <tr>\n",
       "      <th rowspan=\"2\" valign=\"top\">Small</th>\n",
       "      <th>Grocery Store</th>\n",
       "      <th>OUT019</th>\n",
       "      <td>528</td>\n",
       "    </tr>\n",
       "    <tr>\n",
       "      <th>Supermarket Type1</th>\n",
       "      <th>OUT046</th>\n",
       "      <td>930</td>\n",
       "    </tr>\n",
       "    <tr>\n",
       "      <th>Tier 2</th>\n",
       "      <th>Small</th>\n",
       "      <th>Supermarket Type1</th>\n",
       "      <th>OUT035</th>\n",
       "      <td>930</td>\n",
       "    </tr>\n",
       "    <tr>\n",
       "      <th rowspan=\"3\" valign=\"top\">Tier 3</th>\n",
       "      <th>High</th>\n",
       "      <th>Supermarket Type1</th>\n",
       "      <th>OUT013</th>\n",
       "      <td>932</td>\n",
       "    </tr>\n",
       "    <tr>\n",
       "      <th rowspan=\"2\" valign=\"top\">Medium</th>\n",
       "      <th>Supermarket Type2</th>\n",
       "      <th>OUT018</th>\n",
       "      <td>928</td>\n",
       "    </tr>\n",
       "    <tr>\n",
       "      <th>Supermarket Type3</th>\n",
       "      <th>OUT027</th>\n",
       "      <td>935</td>\n",
       "    </tr>\n",
       "  </tbody>\n",
       "</table>\n",
       "</div>"
      ],
      "text/plain": [
       "                                                                      Outlet_Size\n",
       "Outlet_Location_Type Outlet_Size Outlet_Type       Outlet_Identifier             \n",
       "Tier 1               Medium      Supermarket Type1 OUT049                     930\n",
       "                     Small       Grocery Store     OUT019                     528\n",
       "                                 Supermarket Type1 OUT046                     930\n",
       "Tier 2               Small       Supermarket Type1 OUT035                     930\n",
       "Tier 3               High        Supermarket Type1 OUT013                     932\n",
       "                     Medium      Supermarket Type2 OUT018                     928\n",
       "                                 Supermarket Type3 OUT027                     935"
      ]
     },
     "execution_count": 1633,
     "metadata": {},
     "output_type": "execute_result"
    }
   ],
   "source": [
    "training_dataset.groupby(['Outlet_Location_Type','Outlet_Size', 'Outlet_Type', 'Outlet_Identifier'])\\\n",
    ".agg({'Outlet_Size':'count'})"
   ]
  },
  {
   "cell_type": "markdown",
   "id": "opposed-reason",
   "metadata": {},
   "source": [
    " A quick summary of the **Outlet Variables** for known **Outlet Sizes** show that the All **Grocery Store** are **Small** size, but also all of them are in the Tier 1 area. There are also no Small sized outlets in the Tier 3 regions"
   ]
  },
  {
   "cell_type": "code",
   "execution_count": 1634,
   "id": "applied-penguin",
   "metadata": {},
   "outputs": [
    {
     "data": {
      "text/html": [
       "<div>\n",
       "<style scoped>\n",
       "    .dataframe tbody tr th:only-of-type {\n",
       "        vertical-align: middle;\n",
       "    }\n",
       "\n",
       "    .dataframe tbody tr th {\n",
       "        vertical-align: top;\n",
       "    }\n",
       "\n",
       "    .dataframe thead th {\n",
       "        text-align: right;\n",
       "    }\n",
       "</style>\n",
       "<table border=\"1\" class=\"dataframe\">\n",
       "  <thead>\n",
       "    <tr style=\"text-align: right;\">\n",
       "      <th></th>\n",
       "      <th></th>\n",
       "      <th></th>\n",
       "      <th>Outlet_Type</th>\n",
       "    </tr>\n",
       "    <tr>\n",
       "      <th>Outlet_Location_Type</th>\n",
       "      <th>Outlet_Type</th>\n",
       "      <th>Outlet_Identifier</th>\n",
       "      <th></th>\n",
       "    </tr>\n",
       "  </thead>\n",
       "  <tbody>\n",
       "    <tr>\n",
       "      <th rowspan=\"2\" valign=\"top\">Tier 2</th>\n",
       "      <th rowspan=\"2\" valign=\"top\">Supermarket Type1</th>\n",
       "      <th>OUT017</th>\n",
       "      <td>926</td>\n",
       "    </tr>\n",
       "    <tr>\n",
       "      <th>OUT045</th>\n",
       "      <td>929</td>\n",
       "    </tr>\n",
       "    <tr>\n",
       "      <th>Tier 3</th>\n",
       "      <th>Grocery Store</th>\n",
       "      <th>OUT010</th>\n",
       "      <td>555</td>\n",
       "    </tr>\n",
       "  </tbody>\n",
       "</table>\n",
       "</div>"
      ],
      "text/plain": [
       "                                                          Outlet_Type\n",
       "Outlet_Location_Type Outlet_Type       Outlet_Identifier             \n",
       "Tier 2               Supermarket Type1 OUT017                     926\n",
       "                                       OUT045                     929\n",
       "Tier 3               Grocery Store     OUT010                     555"
      ]
     },
     "execution_count": 1634,
     "metadata": {},
     "output_type": "execute_result"
    }
   ],
   "source": [
    "training_dataset[training_dataset['Outlet_Size'].isnull()]\\\n",
    ".groupby(['Outlet_Location_Type','Outlet_Type', 'Outlet_Identifier']).agg({'Outlet_Type':'count'})"
   ]
  },
  {
   "cell_type": "markdown",
   "id": "olympic-charge",
   "metadata": {},
   "source": [
    "A quick view into the unknown outlet-sizes shows that the Grocery Stores are in the Tier 3 area which makes it difficult to make assumptions are small Sized Outlets. As such I decided to include a new category \"Unknown\" for the missing Data in the Outlet_Size"
   ]
  },
  {
   "cell_type": "code",
   "execution_count": 1635,
   "id": "single-yorkshire",
   "metadata": {},
   "outputs": [],
   "source": [
    "training_dataset['Outlet_Size'] = training_dataset['Outlet_Size'].fillna('Unknown')"
   ]
  },
  {
   "cell_type": "markdown",
   "id": "descending-drill",
   "metadata": {},
   "source": [
    "# DEALING WITH OUTLIERS"
   ]
  },
  {
   "cell_type": "code",
   "execution_count": 1636,
   "id": "delayed-degree",
   "metadata": {},
   "outputs": [
    {
     "data": {
      "text/plain": [
       "<AxesSubplot:ylabel='Density'>"
      ]
     },
     "execution_count": 1636,
     "metadata": {},
     "output_type": "execute_result"
    },
    {
     "data": {
      "image/png": "[encoded data removed]",
      "text/plain": [
       "<Figure size 1008x864 with 1 Axes>"
      ]
     },
     "metadata": {},
     "output_type": "display_data"
    }
   ],
   "source": [
    "training_dataset['Item_Outlet_Sales'].plot.kde()"
   ]
  },
  {
   "cell_type": "code",
   "execution_count": null,
   "id": "educational-bernard",
   "metadata": {},
   "outputs": [],
   "source": []
  },
  {
   "cell_type": "code",
   "execution_count": 1637,
   "id": "missing-demonstration",
   "metadata": {},
   "outputs": [
    {
     "data": {
      "text/plain": [
       "1.000000e-12       33.290000\n",
       "2.000000e-02      115.476352\n",
       "4.000000e-02      169.699104\n",
       "5.000000e-02      188.421400\n",
       "1.000000e-01      343.552800\n",
       "9.000000e-01     4570.051200\n",
       "9.500000e-01     5522.811000\n",
       "9.800000e-01     6623.831144\n",
       "9.900000e-01     7366.011720\n",
       "9.950000e-01     8212.429944\n",
       "9.990000e-01     9726.761417\n",
       "9.995000e-01    10293.550965\n",
       "9.998000e-01    11643.880585\n",
       "9.999900e-01    13004.352123\n",
       "1.000000e+00    13086.956539\n",
       "Name: Item_Outlet_Sales, dtype: float64"
      ]
     },
     "execution_count": 1637,
     "metadata": {},
     "output_type": "execute_result"
    }
   ],
   "source": [
    "training_dataset['Item_Outlet_Sales'].quantile([0.000000000001,.02, .04, .05, .10,.90, .95,.98, .99, 0.995, 0.999, 0.9995, 0.9998, 0.99999, 0.999999999 ])"
   ]
  },
  {
   "cell_type": "code",
   "execution_count": null,
   "id": "human-constraint",
   "metadata": {},
   "outputs": [],
   "source": []
  },
  {
   "cell_type": "code",
   "execution_count": 1638,
   "id": "unlike-throat",
   "metadata": {},
   "outputs": [],
   "source": [
    "training_dataset = training_dataset[(training_dataset['Item_Outlet_Sales']<training_dataset['Item_Outlet_Sales'].quantile(0.98))\\\n",
    "                                   & (training_dataset['Item_Outlet_Sales']>training_dataset['Item_Outlet_Sales'].quantile(0.0000001))]"
   ]
  },
  {
   "cell_type": "code",
   "execution_count": 1639,
   "id": "finite-qatar",
   "metadata": {},
   "outputs": [
    {
     "data": {
      "text/plain": [
       "1.000000e-07      33.956356\n",
       "2.000000e-02     114.517600\n",
       "4.000000e-02     167.781600\n",
       "5.000000e-02     186.424000\n",
       "1.000000e-01     337.494020\n",
       "9.000000e-01    4327.700000\n",
       "9.500000e-01    5088.476370\n",
       "9.800000e-01    5829.838012\n",
       "9.900000e-01    6105.572424\n",
       "9.950000e-01    6338.416000\n",
       "9.990000e-01    6563.853883\n",
       "9.995000e-01    6605.857540\n",
       "9.998000e-01    6615.388800\n",
       "9.999900e-01    6622.101136\n",
       "1.000000e+00    6622.712539\n",
       "Name: Item_Outlet_Sales, dtype: float64"
      ]
     },
     "execution_count": 1639,
     "metadata": {},
     "output_type": "execute_result"
    }
   ],
   "source": [
    "training_dataset['Item_Outlet_Sales'].quantile([0.0000001,.02, .04, .05, .10,.90, .95,.98, .99, 0.995, 0.999, 0.9995, 0.9998, 0.99999, 0.999999999 ])"
   ]
  },
  {
   "cell_type": "code",
   "execution_count": 1640,
   "id": "streaming-carroll",
   "metadata": {},
   "outputs": [
    {
     "data": {
      "text/plain": [
       "array([[<AxesSubplot:title={'center':'Item_Weight'}>,\n",
       "        <AxesSubplot:title={'center':'Item_Visibility'}>],\n",
       "       [<AxesSubplot:title={'center':'Item_MRP'}>,\n",
       "        <AxesSubplot:title={'center':'Outlet_Establishment_Year'}>],\n",
       "       [<AxesSubplot:title={'center':'Item_Outlet_Sales'}>,\n",
       "        <AxesSubplot:>]], dtype=object)"
      ]
     },
     "execution_count": 1640,
     "metadata": {},
     "output_type": "execute_result"
    },
    {
     "data": {
      "image/png": "[encoded data removed]",
      "text/plain": [
       "<Figure size 1008x864 with 6 Axes>"
      ]
     },
     "metadata": {},
     "output_type": "display_data"
    }
   ],
   "source": [
    "training_dataset.hist()"
   ]
  },
  {
   "cell_type": "code",
   "execution_count": 1641,
   "id": "round-return",
   "metadata": {},
   "outputs": [],
   "source": [
    "#imputer = SimpleImputer(missing_values=\"NaN\", strategy='mean')\n",
    "#imputer.fit(training_dataset[['Item_Weight']])"
   ]
  },
  {
   "cell_type": "markdown",
   "id": "rapid-catholic",
   "metadata": {},
   "source": [
    "# DEALING WITH CATEGORICAL VALUES "
   ]
  },
  {
   "cell_type": "code",
   "execution_count": 1642,
   "id": "contemporary-marker",
   "metadata": {},
   "outputs": [],
   "source": [
    "from sklearn import preprocessing\n",
    "le = preprocessing.LabelEncoder()\n",
    "for i in training_dataset.columns:\n",
    "    if training_dataset[i].dtype == 'object':\n",
    "        training_dataset[i] = le.fit_transform(training_dataset[i])\n",
    "    \n",
    " "
   ]
  },
  {
   "cell_type": "code",
   "execution_count": 1643,
   "id": "thorough-legislature",
   "metadata": {},
   "outputs": [],
   "source": [
    "training_columns = training_dataset.drop(columns=['Item_Outlet_Sales']).columns"
   ]
  },
  {
   "cell_type": "code",
   "execution_count": 1644,
   "id": "isolated-detective",
   "metadata": {},
   "outputs": [
    {
     "data": {
      "text/plain": [
       "<AxesSubplot:>"
      ]
     },
     "execution_count": 1644,
     "metadata": {},
     "output_type": "execute_result"
    },
    {
     "data": {
      "image/png": "[encoded data removed]",
      "text/plain": [
       "<Figure size 1008x864 with 2 Axes>"
      ]
     },
     "metadata": {},
     "output_type": "display_data"
    }
   ],
   "source": [
    "sns.heatmap(training_dataset.corr(), annot=True)"
   ]
  },
  {
   "cell_type": "code",
   "execution_count": 1645,
   "id": "dried-award",
   "metadata": {},
   "outputs": [
    {
     "data": {
      "text/plain": [
       "Item_Outlet_Sales            1.000000\n",
       "Item_MRP                     0.555141\n",
       "Outlet_Type                  0.370797\n",
       "Outlet_Identifier            0.178049\n",
       "Outlet_Location_Type         0.059333\n",
       "Item_Type                    0.018842\n",
       "Item_Weight                  0.016260\n",
       "Item_Fat_Content             0.011702\n",
       "Outlet_Establishment_Year    0.006391\n",
       "Item_Identifier              0.003797\n",
       "Item_Visibility             -0.132533\n",
       "Outlet_Size                 -0.167094\n",
       "Name: Item_Outlet_Sales, dtype: float64"
      ]
     },
     "execution_count": 1645,
     "metadata": {},
     "output_type": "execute_result"
    }
   ],
   "source": [
    "training_dataset.corr()['Item_Outlet_Sales'].sort_values(ascending=False)"
   ]
  },
  {
   "cell_type": "markdown",
   "id": "intensive-nomination",
   "metadata": {},
   "source": [
    "**Outlet Location Type**, **Outlet Size**, **Outlet Identifier**, **Item Visibility** & **Outlet Type** are all correlated with **Items Outlet Sales**\n",
    "However, to avoid multi-collinearity, some of the fields have to be dropped. \n",
    "**Outlet Type** is correlated with **Outlet Location Type**, **Outlet Size**, **Outlet Identifier**, **Item Visibility**. Based on the definition of these fields, this pattern makes sense\n",
    "1. **Outlet Location Type** seems to determine the **Outlet type**. The positive relationship of 0.46 show that More Type 2 & 3 supermarkets are found in the Tier 3 Location Types, while a Grocery store is only found in Tier 1 areas with some Type 1 supermarkets\n",
    "2.  **Outlet Type** has a strong correlation with the **Outlet Size** (-0.43) . All Grocery Stores are small-sized, All Type2 & 3 supermarkets are Medium Types. It shows some sort of patterns\n",
    "3. **Outlet Type** has some correlation with **Outlet Identifier** (0.18). This is mainly as an **Outlet Identifier** can only be one **Outlet Type** \n",
    "4.  **Outlet Type** has some correlation with **Item Visibility** (0.13). This understandable to some extent as the visibility of an item can be affected by the structure of the shop."
   ]
  },
  {
   "cell_type": "markdown",
   "id": "certified-rebate",
   "metadata": {},
   "source": [
    "As such I played with various combinations of variables"
   ]
  },
  {
   "cell_type": "markdown",
   "id": "further-teach",
   "metadata": {},
   "source": [
    "1. Item_MRP, Outlet_type \n",
    "2. Item_MRP, Outlet_Size, Outlet Identifier "
   ]
  },
  {
   "cell_type": "code",
   "execution_count": 1646,
   "id": "traditional-sharing",
   "metadata": {},
   "outputs": [],
   "source": [
    "X= training_dataset[[ 'Item_MRP', 'Outlet_Type']]\n",
    "y=np.log(training_dataset['Item_Outlet_Sales'])"
   ]
  },
  {
   "cell_type": "code",
   "execution_count": 1647,
   "id": "duplicate-football",
   "metadata": {},
   "outputs": [],
   "source": [
    "X_train, X_test, y_train, y_test = train_test_split(X, y, test_size=0.25, random_state=20)"
   ]
  },
  {
   "cell_type": "code",
   "execution_count": 1648,
   "id": "dynamic-station",
   "metadata": {},
   "outputs": [
    {
     "data": {
      "text/html": [
       "<div>\n",
       "<style scoped>\n",
       "    .dataframe tbody tr th:only-of-type {\n",
       "        vertical-align: middle;\n",
       "    }\n",
       "\n",
       "    .dataframe tbody tr th {\n",
       "        vertical-align: top;\n",
       "    }\n",
       "\n",
       "    .dataframe thead th {\n",
       "        text-align: right;\n",
       "    }\n",
       "</style>\n",
       "<table border=\"1\" class=\"dataframe\">\n",
       "  <thead>\n",
       "    <tr style=\"text-align: right;\">\n",
       "      <th></th>\n",
       "      <th>Item_MRP</th>\n",
       "      <th>Outlet_Type</th>\n",
       "    </tr>\n",
       "  </thead>\n",
       "  <tbody>\n",
       "    <tr>\n",
       "      <th>5027</th>\n",
       "      <td>170.3106</td>\n",
       "      <td>3</td>\n",
       "    </tr>\n",
       "    <tr>\n",
       "      <th>3161</th>\n",
       "      <td>107.9938</td>\n",
       "      <td>1</td>\n",
       "    </tr>\n",
       "    <tr>\n",
       "      <th>5825</th>\n",
       "      <td>106.5306</td>\n",
       "      <td>0</td>\n",
       "    </tr>\n",
       "    <tr>\n",
       "      <th>6201</th>\n",
       "      <td>190.9872</td>\n",
       "      <td>1</td>\n",
       "    </tr>\n",
       "    <tr>\n",
       "      <th>3099</th>\n",
       "      <td>126.2046</td>\n",
       "      <td>1</td>\n",
       "    </tr>\n",
       "    <tr>\n",
       "      <th>...</th>\n",
       "      <td>...</td>\n",
       "      <td>...</td>\n",
       "    </tr>\n",
       "    <tr>\n",
       "      <th>6036</th>\n",
       "      <td>115.5808</td>\n",
       "      <td>1</td>\n",
       "    </tr>\n",
       "    <tr>\n",
       "      <th>4002</th>\n",
       "      <td>216.7850</td>\n",
       "      <td>1</td>\n",
       "    </tr>\n",
       "    <tr>\n",
       "      <th>7216</th>\n",
       "      <td>37.2848</td>\n",
       "      <td>1</td>\n",
       "    </tr>\n",
       "    <tr>\n",
       "      <th>7544</th>\n",
       "      <td>242.9512</td>\n",
       "      <td>1</td>\n",
       "    </tr>\n",
       "    <tr>\n",
       "      <th>4461</th>\n",
       "      <td>195.5452</td>\n",
       "      <td>2</td>\n",
       "    </tr>\n",
       "  </tbody>\n",
       "</table>\n",
       "<p>6262 rows × 2 columns</p>\n",
       "</div>"
      ],
      "text/plain": [
       "      Item_MRP  Outlet_Type\n",
       "5027  170.3106            3\n",
       "3161  107.9938            1\n",
       "5825  106.5306            0\n",
       "6201  190.9872            1\n",
       "3099  126.2046            1\n",
       "...        ...          ...\n",
       "6036  115.5808            1\n",
       "4002  216.7850            1\n",
       "7216   37.2848            1\n",
       "7544  242.9512            1\n",
       "4461  195.5452            2\n",
       "\n",
       "[6262 rows x 2 columns]"
      ]
     },
     "execution_count": 1648,
     "metadata": {},
     "output_type": "execute_result"
    }
   ],
   "source": [
    "X_train"
   ]
  },
  {
   "cell_type": "code",
   "execution_count": 1649,
   "id": "backed-welding",
   "metadata": {},
   "outputs": [],
   "source": [
    "\n",
    "sc  = StandardScaler()\n",
    "sc = StandardScaler()\n",
    "X_train = sc.fit_transform(X_train)\n",
    "X_test = sc.fit_transform(X_test)\n"
   ]
  },
  {
   "cell_type": "code",
   "execution_count": 1650,
   "id": "immediate-mountain",
   "metadata": {},
   "outputs": [
    {
     "data": {
      "text/plain": [
       "array([[ 0.49706843,  2.33926425],\n",
       "       [-0.51498133, -0.22726623],\n",
       "       [-0.53874428, -1.51053147],\n",
       "       ...,\n",
       "       [-1.66332376, -0.22726623],\n",
       "       [ 1.67678082, -0.22726623],\n",
       "       [ 0.90688842,  1.05599901]])"
      ]
     },
     "execution_count": 1650,
     "metadata": {},
     "output_type": "execute_result"
    }
   ],
   "source": [
    "X_train"
   ]
  },
  {
   "cell_type": "code",
   "execution_count": 1651,
   "id": "abandoned-treasury",
   "metadata": {},
   "outputs": [],
   "source": [
    "import xgboost\n",
    "XGB = xgboost.XGBRegressor()\n",
    "Linreg = LinearRegression()\n",
    "Polyreg = PolynomialFeatures()\n",
    "SVRreg = SVR()\n",
    "regr = RandomForestRegressor(max_depth=10, random_state=0)\n",
    "HR =  HuberRegressor()\n",
    "RAN = RANSACRegressor()\n",
    "Theil =  TheilSenRegressor()"
   ]
  },
  {
   "cell_type": "code",
   "execution_count": 1652,
   "id": "social-buffer",
   "metadata": {},
   "outputs": [],
   "source": [
    "def evaluator(a):\n",
    "    b = []\n",
    "    for i in a:\n",
    "        i.fit(X_train, y_train)\n",
    "        b.append('Train: {0},Test: {1}'.format(((np.exp(i.predict(X_train))- np.exp(y_train))**2).mean()**0.5,\\\n",
    "                 ((np.exp(i.predict(X_test))-np.exp(y_test))**2).mean()**0.5))\n",
    "    return b\n",
    "        \n",
    "    \n",
    "    "
   ]
  },
  {
   "cell_type": "code",
   "execution_count": 1653,
   "id": "rising-interview",
   "metadata": {},
   "outputs": [
    {
     "data": {
      "text/plain": [
       "['Train: 983.3504321709505,Test: 921.4545982909418',\n",
       " 'Train: 851.9566320487428,Test: 986.0705199688639',\n",
       " 'Train: 919.740022411295,Test: 963.0762226119789',\n",
       " 'Train: 1425.9074837767537,Test: 1374.3432295131356',\n",
       " 'Train: 1308.3682049157155,Test: 1252.5890349018277',\n",
       " 'Train: 1298.473273972635,Test: 1237.7805314659056',\n",
       " 'Train: 1473.4038240642049,Test: 1396.2123278766658']"
      ]
     },
     "execution_count": 1653,
     "metadata": {},
     "output_type": "execute_result"
    }
   ],
   "source": [
    "evaluator([SVRreg, XGB, regr, Linreg, HR, RAN, Theil])"
   ]
  },
  {
   "cell_type": "markdown",
   "id": "talented-experiment",
   "metadata": {},
   "source": [
    "I decided to fit the different regressors to see how they perform. I discover that SVM Regressor, XGBoost, RandomForest seems to perform best. \n",
    "SVM seemed to do the best, as it was good with generalizing the model, followed by Random Forest. XGB seems. to overfitted the model as the prediction of the train set varies very much with the test set"
   ]
  },
  {
   "cell_type": "markdown",
   "id": "raising-issue",
   "metadata": {},
   "source": [
    "# IMPORTING TEST SET & PREDICTION"
   ]
  },
  {
   "cell_type": "code",
   "execution_count": 1654,
   "id": "steady-chrome",
   "metadata": {},
   "outputs": [],
   "source": [
    "test_data = pd.read_csv('test_AbJTz2l.csv')"
   ]
  },
  {
   "cell_type": "code",
   "execution_count": 1655,
   "id": "numerous-ready",
   "metadata": {},
   "outputs": [],
   "source": [
    "training_columns = training_dataset.drop(columns=['Item_Outlet_Sales']).columns"
   ]
  },
  {
   "cell_type": "code",
   "execution_count": 1657,
   "id": "scenic-absolute",
   "metadata": {},
   "outputs": [],
   "source": [
    "def data_cleaning(training_dataset):\n",
    "    for i in training_dataset.columns:\n",
    "        if training_dataset[i].dtype == 'object':\n",
    "            training_dataset[i] = le.fit_transform(training_dataset[i])\n",
    "    training_dataset = training_dataset[[ 'Item_MRP', 'Outlet_Type']]\n",
    "    training_dataset = sc.fit_transform(training_dataset)\n",
    "    return  training_dataset\n",
    "\n",
    " \n",
    "    "
   ]
  },
  {
   "cell_type": "code",
   "execution_count": 1658,
   "id": "formal-bradford",
   "metadata": {},
   "outputs": [],
   "source": [
    "Final = data_cleaning(test_data)"
   ]
  },
  {
   "cell_type": "code",
   "execution_count": 1660,
   "id": "official-tiger",
   "metadata": {},
   "outputs": [],
   "source": [
    "A = Linreg.predict(Final)\n",
    "B = XGB.predict(Final)\n",
    "C = SVRreg.predict(Final)\n",
    "D = regr.predict(Final)"
   ]
  },
  {
   "cell_type": "code",
   "execution_count": 1662,
   "id": "harmful-comment",
   "metadata": {},
   "outputs": [],
   "source": [
    "Finals=test_data[['Item_Identifier','Outlet_Identifier']]"
   ]
  },
  {
   "cell_type": "code",
   "execution_count": 1663,
   "id": "involved-attitude",
   "metadata": {},
   "outputs": [
    {
     "name": "stderr",
     "output_type": "stream",
     "text": [
      "/opt/conda/lib/python3.7/site-packages/ipykernel_launcher.py:1: SettingWithCopyWarning: \n",
      "A value is trying to be set on a copy of a slice from a DataFrame.\n",
      "Try using .loc[row_indexer,col_indexer] = value instead\n",
      "\n",
      "See the caveats in the documentation: https://pandas.pydata.org/pandas-docs/stable/user_guide/indexing.html#returning-a-view-versus-a-copy\n",
      "  \"\"\"Entry point for launching an IPython kernel.\n"
     ]
    }
   ],
   "source": [
    "Finals['Item_Outlet_Sales']=np.exp(C)"
   ]
  },
  {
   "cell_type": "code",
   "execution_count": 1664,
   "id": "ambient-curtis",
   "metadata": {},
   "outputs": [],
   "source": [
    "Finals.to_csv('A.csv', index=False)"
   ]
  },
  {
   "cell_type": "code",
   "execution_count": 1665,
   "id": "three-description",
   "metadata": {},
   "outputs": [
    {
     "data": {
      "text/html": [
       "<div>\n",
       "<style scoped>\n",
       "    .dataframe tbody tr th:only-of-type {\n",
       "        vertical-align: middle;\n",
       "    }\n",
       "\n",
       "    .dataframe tbody tr th {\n",
       "        vertical-align: top;\n",
       "    }\n",
       "\n",
       "    .dataframe thead th {\n",
       "        text-align: right;\n",
       "    }\n",
       "</style>\n",
       "<table border=\"1\" class=\"dataframe\">\n",
       "  <thead>\n",
       "    <tr style=\"text-align: right;\">\n",
       "      <th></th>\n",
       "      <th>Item_Identifier</th>\n",
       "      <th>Outlet_Identifier</th>\n",
       "      <th>Item_Outlet_Sales</th>\n",
       "    </tr>\n",
       "  </thead>\n",
       "  <tbody>\n",
       "    <tr>\n",
       "      <th>30</th>\n",
       "      <td>1459</td>\n",
       "      <td>4</td>\n",
       "      <td>76.350434</td>\n",
       "    </tr>\n",
       "    <tr>\n",
       "      <th>674</th>\n",
       "      <td>973</td>\n",
       "      <td>0</td>\n",
       "      <td>77.354345</td>\n",
       "    </tr>\n",
       "    <tr>\n",
       "      <th>5016</th>\n",
       "      <td>413</td>\n",
       "      <td>4</td>\n",
       "      <td>77.567776</td>\n",
       "    </tr>\n",
       "    <tr>\n",
       "      <th>2522</th>\n",
       "      <td>1152</td>\n",
       "      <td>0</td>\n",
       "      <td>78.000345</td>\n",
       "    </tr>\n",
       "    <tr>\n",
       "      <th>2179</th>\n",
       "      <td>801</td>\n",
       "      <td>4</td>\n",
       "      <td>78.587018</td>\n",
       "    </tr>\n",
       "    <tr>\n",
       "      <th>...</th>\n",
       "      <td>...</td>\n",
       "      <td>...</td>\n",
       "      <td>...</td>\n",
       "    </tr>\n",
       "    <tr>\n",
       "      <th>861</th>\n",
       "      <td>615</td>\n",
       "      <td>5</td>\n",
       "      <td>4757.116089</td>\n",
       "    </tr>\n",
       "    <tr>\n",
       "      <th>2911</th>\n",
       "      <td>716</td>\n",
       "      <td>5</td>\n",
       "      <td>4757.212570</td>\n",
       "    </tr>\n",
       "    <tr>\n",
       "      <th>1478</th>\n",
       "      <td>180</td>\n",
       "      <td>5</td>\n",
       "      <td>4757.317908</td>\n",
       "    </tr>\n",
       "    <tr>\n",
       "      <th>4406</th>\n",
       "      <td>1027</td>\n",
       "      <td>5</td>\n",
       "      <td>4757.319617</td>\n",
       "    </tr>\n",
       "    <tr>\n",
       "      <th>3537</th>\n",
       "      <td>900</td>\n",
       "      <td>5</td>\n",
       "      <td>4757.322207</td>\n",
       "    </tr>\n",
       "  </tbody>\n",
       "</table>\n",
       "<p>5681 rows × 3 columns</p>\n",
       "</div>"
      ],
      "text/plain": [
       "      Item_Identifier  Outlet_Identifier  Item_Outlet_Sales\n",
       "30               1459                  4          76.350434\n",
       "674               973                  0          77.354345\n",
       "5016              413                  4          77.567776\n",
       "2522             1152                  0          78.000345\n",
       "2179              801                  4          78.587018\n",
       "...               ...                ...                ...\n",
       "861               615                  5        4757.116089\n",
       "2911              716                  5        4757.212570\n",
       "1478              180                  5        4757.317908\n",
       "4406             1027                  5        4757.319617\n",
       "3537              900                  5        4757.322207\n",
       "\n",
       "[5681 rows x 3 columns]"
      ]
     },
     "execution_count": 1665,
     "metadata": {},
     "output_type": "execute_result"
    }
   ],
   "source": [
    "Finals.sort_values(by=['Item_Outlet_Sales'])"
   ]
  },
  {
   "cell_type": "code",
   "execution_count": 1666,
   "id": "literary-detective",
   "metadata": {},
   "outputs": [
    {
     "ename": "TypeError",
     "evalue": "ufunc 'exp' not supported for the input types, and the inputs could not be safely coerced to any supported types according to the casting rule ''safe''",
     "output_type": "error",
     "traceback": [
      "\u001b[0;31m---------------------------------------------------------------------------\u001b[0m",
      "\u001b[0;31mTypeError\u001b[0m                                 Traceback (most recent call last)",
      "\u001b[0;32m<ipython-input-1666-8eb4e6b27b10>\u001b[0m in \u001b[0;36m<module>\u001b[0;34m\u001b[0m\n\u001b[0;32m----> 1\u001b[0;31m \u001b[0mnp\u001b[0m\u001b[0;34m.\u001b[0m\u001b[0mexp\u001b[0m\u001b[0;34m(\u001b[0m\u001b[0;34m[\u001b[0m\u001b[0;34m'Item_Outlet_Sales'\u001b[0m\u001b[0;34m]\u001b[0m\u001b[0;34m)\u001b[0m\u001b[0;34m\u001b[0m\u001b[0;34m\u001b[0m\u001b[0m\n\u001b[0m",
      "\u001b[0;31mTypeError\u001b[0m: ufunc 'exp' not supported for the input types, and the inputs could not be safely coerced to any supported types according to the casting rule ''safe''"
     ]
    }
   ],
   "source": []
  },
  {
   "cell_type": "code",
   "execution_count": null,
   "id": "boxed-little",
   "metadata": {},
   "outputs": [],
   "source": []
  }
 ],
 "metadata": {
  "kernelspec": {
   "display_name": "Python 3",
   "language": "python",
   "name": "python3"
  },
  "language_info": {
   "codemirror_mode": {
    "name": "ipython",
    "version": 3
   },
   "file_extension": ".py",
   "mimetype": "text/x-python",
   "name": "python",
   "nbconvert_exporter": "python",
   "pygments_lexer": "ipython3",
   "version": "3.7.8"
  }
 },
 "nbformat": 4,
 "nbformat_minor": 5
}
